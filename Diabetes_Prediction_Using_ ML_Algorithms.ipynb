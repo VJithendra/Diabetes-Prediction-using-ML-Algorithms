{
 "cells": [
  {
   "cell_type": "code",
   "execution_count": 1,
   "id": "52b505fd",
   "metadata": {},
   "outputs": [],
   "source": [
    "import pandas as pd \n",
    "import numpy as np\n",
    "import matplotlib.pyplot as plt\n",
    "import seaborn as sns\n",
    "%matplotlib inline\n",
    "\n",
    "import warnings\n",
    "warnings.filterwarnings('ignore')"
   ]
  },
  {
   "cell_type": "code",
   "execution_count": 2,
   "id": "97a98d1d",
   "metadata": {},
   "outputs": [],
   "source": [
    "df = pd.read_csv('diabetes.csv')"
   ]
  },
  {
   "cell_type": "code",
   "execution_count": 3,
   "id": "09214c8a",
   "metadata": {
    "scrolled": true
   },
   "outputs": [
    {
     "data": {
      "text/html": [
       "<div>\n",
       "<style scoped>\n",
       "    .dataframe tbody tr th:only-of-type {\n",
       "        vertical-align: middle;\n",
       "    }\n",
       "\n",
       "    .dataframe tbody tr th {\n",
       "        vertical-align: top;\n",
       "    }\n",
       "\n",
       "    .dataframe thead th {\n",
       "        text-align: right;\n",
       "    }\n",
       "</style>\n",
       "<table border=\"1\" class=\"dataframe\">\n",
       "  <thead>\n",
       "    <tr style=\"text-align: right;\">\n",
       "      <th></th>\n",
       "      <th>Pregnancies</th>\n",
       "      <th>Glucose</th>\n",
       "      <th>BloodPressure</th>\n",
       "      <th>SkinThickness</th>\n",
       "      <th>Insulin</th>\n",
       "      <th>BMI</th>\n",
       "      <th>DiabetesPedigreeFunction</th>\n",
       "      <th>Age</th>\n",
       "      <th>Outcome</th>\n",
       "    </tr>\n",
       "  </thead>\n",
       "  <tbody>\n",
       "    <tr>\n",
       "      <th>0</th>\n",
       "      <td>6</td>\n",
       "      <td>148</td>\n",
       "      <td>72</td>\n",
       "      <td>35</td>\n",
       "      <td>0</td>\n",
       "      <td>33.6</td>\n",
       "      <td>0.627</td>\n",
       "      <td>50</td>\n",
       "      <td>1</td>\n",
       "    </tr>\n",
       "    <tr>\n",
       "      <th>1</th>\n",
       "      <td>1</td>\n",
       "      <td>85</td>\n",
       "      <td>66</td>\n",
       "      <td>29</td>\n",
       "      <td>0</td>\n",
       "      <td>26.6</td>\n",
       "      <td>0.351</td>\n",
       "      <td>31</td>\n",
       "      <td>0</td>\n",
       "    </tr>\n",
       "    <tr>\n",
       "      <th>2</th>\n",
       "      <td>8</td>\n",
       "      <td>183</td>\n",
       "      <td>64</td>\n",
       "      <td>0</td>\n",
       "      <td>0</td>\n",
       "      <td>23.3</td>\n",
       "      <td>0.672</td>\n",
       "      <td>32</td>\n",
       "      <td>1</td>\n",
       "    </tr>\n",
       "    <tr>\n",
       "      <th>3</th>\n",
       "      <td>1</td>\n",
       "      <td>89</td>\n",
       "      <td>66</td>\n",
       "      <td>23</td>\n",
       "      <td>94</td>\n",
       "      <td>28.1</td>\n",
       "      <td>0.167</td>\n",
       "      <td>21</td>\n",
       "      <td>0</td>\n",
       "    </tr>\n",
       "    <tr>\n",
       "      <th>4</th>\n",
       "      <td>0</td>\n",
       "      <td>137</td>\n",
       "      <td>40</td>\n",
       "      <td>35</td>\n",
       "      <td>168</td>\n",
       "      <td>43.1</td>\n",
       "      <td>2.288</td>\n",
       "      <td>33</td>\n",
       "      <td>1</td>\n",
       "    </tr>\n",
       "    <tr>\n",
       "      <th>5</th>\n",
       "      <td>5</td>\n",
       "      <td>116</td>\n",
       "      <td>74</td>\n",
       "      <td>0</td>\n",
       "      <td>0</td>\n",
       "      <td>25.6</td>\n",
       "      <td>0.201</td>\n",
       "      <td>30</td>\n",
       "      <td>0</td>\n",
       "    </tr>\n",
       "    <tr>\n",
       "      <th>6</th>\n",
       "      <td>3</td>\n",
       "      <td>78</td>\n",
       "      <td>50</td>\n",
       "      <td>32</td>\n",
       "      <td>88</td>\n",
       "      <td>31.0</td>\n",
       "      <td>0.248</td>\n",
       "      <td>26</td>\n",
       "      <td>1</td>\n",
       "    </tr>\n",
       "    <tr>\n",
       "      <th>7</th>\n",
       "      <td>10</td>\n",
       "      <td>115</td>\n",
       "      <td>0</td>\n",
       "      <td>0</td>\n",
       "      <td>0</td>\n",
       "      <td>35.3</td>\n",
       "      <td>0.134</td>\n",
       "      <td>29</td>\n",
       "      <td>0</td>\n",
       "    </tr>\n",
       "    <tr>\n",
       "      <th>8</th>\n",
       "      <td>2</td>\n",
       "      <td>197</td>\n",
       "      <td>70</td>\n",
       "      <td>45</td>\n",
       "      <td>543</td>\n",
       "      <td>30.5</td>\n",
       "      <td>0.158</td>\n",
       "      <td>53</td>\n",
       "      <td>1</td>\n",
       "    </tr>\n",
       "    <tr>\n",
       "      <th>9</th>\n",
       "      <td>8</td>\n",
       "      <td>125</td>\n",
       "      <td>96</td>\n",
       "      <td>0</td>\n",
       "      <td>0</td>\n",
       "      <td>0.0</td>\n",
       "      <td>0.232</td>\n",
       "      <td>54</td>\n",
       "      <td>1</td>\n",
       "    </tr>\n",
       "    <tr>\n",
       "      <th>10</th>\n",
       "      <td>4</td>\n",
       "      <td>110</td>\n",
       "      <td>92</td>\n",
       "      <td>0</td>\n",
       "      <td>0</td>\n",
       "      <td>37.6</td>\n",
       "      <td>0.191</td>\n",
       "      <td>30</td>\n",
       "      <td>0</td>\n",
       "    </tr>\n",
       "    <tr>\n",
       "      <th>11</th>\n",
       "      <td>10</td>\n",
       "      <td>168</td>\n",
       "      <td>74</td>\n",
       "      <td>0</td>\n",
       "      <td>0</td>\n",
       "      <td>38.0</td>\n",
       "      <td>0.537</td>\n",
       "      <td>34</td>\n",
       "      <td>1</td>\n",
       "    </tr>\n",
       "    <tr>\n",
       "      <th>12</th>\n",
       "      <td>10</td>\n",
       "      <td>139</td>\n",
       "      <td>80</td>\n",
       "      <td>0</td>\n",
       "      <td>0</td>\n",
       "      <td>27.1</td>\n",
       "      <td>1.441</td>\n",
       "      <td>57</td>\n",
       "      <td>0</td>\n",
       "    </tr>\n",
       "    <tr>\n",
       "      <th>13</th>\n",
       "      <td>1</td>\n",
       "      <td>189</td>\n",
       "      <td>60</td>\n",
       "      <td>23</td>\n",
       "      <td>846</td>\n",
       "      <td>30.1</td>\n",
       "      <td>0.398</td>\n",
       "      <td>59</td>\n",
       "      <td>1</td>\n",
       "    </tr>\n",
       "    <tr>\n",
       "      <th>14</th>\n",
       "      <td>5</td>\n",
       "      <td>166</td>\n",
       "      <td>72</td>\n",
       "      <td>19</td>\n",
       "      <td>175</td>\n",
       "      <td>25.8</td>\n",
       "      <td>0.587</td>\n",
       "      <td>51</td>\n",
       "      <td>1</td>\n",
       "    </tr>\n",
       "  </tbody>\n",
       "</table>\n",
       "</div>"
      ],
      "text/plain": [
       "    Pregnancies  Glucose  BloodPressure  SkinThickness  Insulin   BMI  \\\n",
       "0             6      148             72             35        0  33.6   \n",
       "1             1       85             66             29        0  26.6   \n",
       "2             8      183             64              0        0  23.3   \n",
       "3             1       89             66             23       94  28.1   \n",
       "4             0      137             40             35      168  43.1   \n",
       "5             5      116             74              0        0  25.6   \n",
       "6             3       78             50             32       88  31.0   \n",
       "7            10      115              0              0        0  35.3   \n",
       "8             2      197             70             45      543  30.5   \n",
       "9             8      125             96              0        0   0.0   \n",
       "10            4      110             92              0        0  37.6   \n",
       "11           10      168             74              0        0  38.0   \n",
       "12           10      139             80              0        0  27.1   \n",
       "13            1      189             60             23      846  30.1   \n",
       "14            5      166             72             19      175  25.8   \n",
       "\n",
       "    DiabetesPedigreeFunction  Age  Outcome  \n",
       "0                      0.627   50        1  \n",
       "1                      0.351   31        0  \n",
       "2                      0.672   32        1  \n",
       "3                      0.167   21        0  \n",
       "4                      2.288   33        1  \n",
       "5                      0.201   30        0  \n",
       "6                      0.248   26        1  \n",
       "7                      0.134   29        0  \n",
       "8                      0.158   53        1  \n",
       "9                      0.232   54        1  \n",
       "10                     0.191   30        0  \n",
       "11                     0.537   34        1  \n",
       "12                     1.441   57        0  \n",
       "13                     0.398   59        1  \n",
       "14                     0.587   51        1  "
      ]
     },
     "execution_count": 3,
     "metadata": {},
     "output_type": "execute_result"
    }
   ],
   "source": [
    "df.head(15)"
   ]
  },
  {
   "cell_type": "code",
   "execution_count": 4,
   "id": "4a4c66ec",
   "metadata": {},
   "outputs": [
    {
     "data": {
      "text/plain": [
       "(768, 9)"
      ]
     },
     "execution_count": 4,
     "metadata": {},
     "output_type": "execute_result"
    }
   ],
   "source": [
    "df.shape"
   ]
  },
  {
   "cell_type": "code",
   "execution_count": 5,
   "id": "7b86e948",
   "metadata": {},
   "outputs": [
    {
     "name": "stdout",
     "output_type": "stream",
     "text": [
      "<class 'pandas.core.frame.DataFrame'>\n",
      "RangeIndex: 768 entries, 0 to 767\n",
      "Data columns (total 9 columns):\n",
      " #   Column                    Non-Null Count  Dtype  \n",
      "---  ------                    --------------  -----  \n",
      " 0   Pregnancies               768 non-null    int64  \n",
      " 1   Glucose                   768 non-null    int64  \n",
      " 2   BloodPressure             768 non-null    int64  \n",
      " 3   SkinThickness             768 non-null    int64  \n",
      " 4   Insulin                   768 non-null    int64  \n",
      " 5   BMI                       768 non-null    float64\n",
      " 6   DiabetesPedigreeFunction  768 non-null    float64\n",
      " 7   Age                       768 non-null    int64  \n",
      " 8   Outcome                   768 non-null    int64  \n",
      "dtypes: float64(2), int64(7)\n",
      "memory usage: 54.1 KB\n"
     ]
    }
   ],
   "source": [
    "df.info()"
   ]
  },
  {
   "cell_type": "code",
   "execution_count": 6,
   "id": "691b4f23",
   "metadata": {},
   "outputs": [
    {
     "data": {
      "text/html": [
       "<div>\n",
       "<style scoped>\n",
       "    .dataframe tbody tr th:only-of-type {\n",
       "        vertical-align: middle;\n",
       "    }\n",
       "\n",
       "    .dataframe tbody tr th {\n",
       "        vertical-align: top;\n",
       "    }\n",
       "\n",
       "    .dataframe thead th {\n",
       "        text-align: right;\n",
       "    }\n",
       "</style>\n",
       "<table border=\"1\" class=\"dataframe\">\n",
       "  <thead>\n",
       "    <tr style=\"text-align: right;\">\n",
       "      <th></th>\n",
       "      <th>Pregnancies</th>\n",
       "      <th>Glucose</th>\n",
       "      <th>BloodPressure</th>\n",
       "      <th>SkinThickness</th>\n",
       "      <th>Insulin</th>\n",
       "      <th>BMI</th>\n",
       "      <th>DiabetesPedigreeFunction</th>\n",
       "      <th>Age</th>\n",
       "      <th>Outcome</th>\n",
       "    </tr>\n",
       "  </thead>\n",
       "  <tbody>\n",
       "    <tr>\n",
       "      <th>count</th>\n",
       "      <td>768.000000</td>\n",
       "      <td>768.000000</td>\n",
       "      <td>768.000000</td>\n",
       "      <td>768.000000</td>\n",
       "      <td>768.000000</td>\n",
       "      <td>768.000000</td>\n",
       "      <td>768.000000</td>\n",
       "      <td>768.000000</td>\n",
       "      <td>768.000000</td>\n",
       "    </tr>\n",
       "    <tr>\n",
       "      <th>mean</th>\n",
       "      <td>3.845052</td>\n",
       "      <td>120.894531</td>\n",
       "      <td>69.105469</td>\n",
       "      <td>20.536458</td>\n",
       "      <td>79.799479</td>\n",
       "      <td>31.992578</td>\n",
       "      <td>0.471876</td>\n",
       "      <td>33.240885</td>\n",
       "      <td>0.348958</td>\n",
       "    </tr>\n",
       "    <tr>\n",
       "      <th>std</th>\n",
       "      <td>3.369578</td>\n",
       "      <td>31.972618</td>\n",
       "      <td>19.355807</td>\n",
       "      <td>15.952218</td>\n",
       "      <td>115.244002</td>\n",
       "      <td>7.884160</td>\n",
       "      <td>0.331329</td>\n",
       "      <td>11.760232</td>\n",
       "      <td>0.476951</td>\n",
       "    </tr>\n",
       "    <tr>\n",
       "      <th>min</th>\n",
       "      <td>0.000000</td>\n",
       "      <td>0.000000</td>\n",
       "      <td>0.000000</td>\n",
       "      <td>0.000000</td>\n",
       "      <td>0.000000</td>\n",
       "      <td>0.000000</td>\n",
       "      <td>0.078000</td>\n",
       "      <td>21.000000</td>\n",
       "      <td>0.000000</td>\n",
       "    </tr>\n",
       "    <tr>\n",
       "      <th>25%</th>\n",
       "      <td>1.000000</td>\n",
       "      <td>99.000000</td>\n",
       "      <td>62.000000</td>\n",
       "      <td>0.000000</td>\n",
       "      <td>0.000000</td>\n",
       "      <td>27.300000</td>\n",
       "      <td>0.243750</td>\n",
       "      <td>24.000000</td>\n",
       "      <td>0.000000</td>\n",
       "    </tr>\n",
       "    <tr>\n",
       "      <th>50%</th>\n",
       "      <td>3.000000</td>\n",
       "      <td>117.000000</td>\n",
       "      <td>72.000000</td>\n",
       "      <td>23.000000</td>\n",
       "      <td>30.500000</td>\n",
       "      <td>32.000000</td>\n",
       "      <td>0.372500</td>\n",
       "      <td>29.000000</td>\n",
       "      <td>0.000000</td>\n",
       "    </tr>\n",
       "    <tr>\n",
       "      <th>75%</th>\n",
       "      <td>6.000000</td>\n",
       "      <td>140.250000</td>\n",
       "      <td>80.000000</td>\n",
       "      <td>32.000000</td>\n",
       "      <td>127.250000</td>\n",
       "      <td>36.600000</td>\n",
       "      <td>0.626250</td>\n",
       "      <td>41.000000</td>\n",
       "      <td>1.000000</td>\n",
       "    </tr>\n",
       "    <tr>\n",
       "      <th>max</th>\n",
       "      <td>17.000000</td>\n",
       "      <td>199.000000</td>\n",
       "      <td>122.000000</td>\n",
       "      <td>99.000000</td>\n",
       "      <td>846.000000</td>\n",
       "      <td>67.100000</td>\n",
       "      <td>2.420000</td>\n",
       "      <td>81.000000</td>\n",
       "      <td>1.000000</td>\n",
       "    </tr>\n",
       "  </tbody>\n",
       "</table>\n",
       "</div>"
      ],
      "text/plain": [
       "       Pregnancies     Glucose  BloodPressure  SkinThickness     Insulin  \\\n",
       "count   768.000000  768.000000     768.000000     768.000000  768.000000   \n",
       "mean      3.845052  120.894531      69.105469      20.536458   79.799479   \n",
       "std       3.369578   31.972618      19.355807      15.952218  115.244002   \n",
       "min       0.000000    0.000000       0.000000       0.000000    0.000000   \n",
       "25%       1.000000   99.000000      62.000000       0.000000    0.000000   \n",
       "50%       3.000000  117.000000      72.000000      23.000000   30.500000   \n",
       "75%       6.000000  140.250000      80.000000      32.000000  127.250000   \n",
       "max      17.000000  199.000000     122.000000      99.000000  846.000000   \n",
       "\n",
       "              BMI  DiabetesPedigreeFunction         Age     Outcome  \n",
       "count  768.000000                768.000000  768.000000  768.000000  \n",
       "mean    31.992578                  0.471876   33.240885    0.348958  \n",
       "std      7.884160                  0.331329   11.760232    0.476951  \n",
       "min      0.000000                  0.078000   21.000000    0.000000  \n",
       "25%     27.300000                  0.243750   24.000000    0.000000  \n",
       "50%     32.000000                  0.372500   29.000000    0.000000  \n",
       "75%     36.600000                  0.626250   41.000000    1.000000  \n",
       "max     67.100000                  2.420000   81.000000    1.000000  "
      ]
     },
     "execution_count": 6,
     "metadata": {},
     "output_type": "execute_result"
    }
   ],
   "source": [
    "df.describe()"
   ]
  },
  {
   "cell_type": "code",
   "execution_count": 7,
   "id": "be5496f5",
   "metadata": {},
   "outputs": [
    {
     "data": {
      "text/plain": [
       "Pregnancies                 0\n",
       "Glucose                     0\n",
       "BloodPressure               0\n",
       "SkinThickness               0\n",
       "Insulin                     0\n",
       "BMI                         0\n",
       "DiabetesPedigreeFunction    0\n",
       "Age                         0\n",
       "Outcome                     0\n",
       "dtype: int64"
      ]
     },
     "execution_count": 7,
     "metadata": {},
     "output_type": "execute_result"
    }
   ],
   "source": [
    "df.isnull().sum()"
   ]
  },
  {
   "cell_type": "code",
   "execution_count": 8,
   "id": "5727d23a",
   "metadata": {},
   "outputs": [
    {
     "data": {
      "text/plain": [
       "<AxesSubplot:xlabel='Outcome', ylabel='count'>"
      ]
     },
     "execution_count": 8,
     "metadata": {},
     "output_type": "execute_result"
    },
    {
     "data": {
      "image/png": "[encoded data removed]",
      "text/plain": [
       "<Figure size 432x288 with 1 Axes>"
      ]
     },
     "metadata": {
      "needs_background": "light"
     },
     "output_type": "display_data"
    }
   ],
   "source": [
    "sns.countplot(x = 'Outcome',data = df)"
   ]
  },
  {
   "cell_type": "markdown",
   "id": "f47b8c48",
   "metadata": {},
   "source": [
    "# HeatMap"
   ]
  },
  {
   "cell_type": "code",
   "execution_count": 9,
   "id": "9f96f76f",
   "metadata": {},
   "outputs": [
    {
     "data": {
      "image/png": "[encoded data removed]",
      "text/plain": [
       "<Figure size 432x288 with 2 Axes>"
      ]
     },
     "metadata": {
      "needs_background": "light"
     },
     "output_type": "display_data"
    }
   ],
   "source": [
    "sns.heatmap(df.corr(), annot = True)\n",
    "plt.show()"
   ]
  },
  {
   "cell_type": "code",
   "execution_count": 10,
   "id": "22cfadbe",
   "metadata": {},
   "outputs": [],
   "source": [
    "#Selecting features\n",
    "X = df[['Glucose','BMI','DiabetesPedigreeFunction','Insulin']]\n",
    "\n",
    "# Getting Predicting Value\n",
    "Y = df['Outcome']\n",
    "\n",
    "from sklearn.model_selection import train_test_split \n",
    "X_train,X_test,Y_train,Y_test = train_test_split(X,Y,test_size=0.2,random_state=0)\n"
   ]
  },
  {
   "cell_type": "markdown",
   "id": "2b3786e2",
   "metadata": {},
   "source": [
    "# Checking Dimensions"
   ]
  },
  {
   "cell_type": "code",
   "execution_count": 11,
   "id": "03c67a18",
   "metadata": {},
   "outputs": [
    {
     "name": "stdout",
     "output_type": "stream",
     "text": [
      "X_train shape: (614, 4)\n",
      "X_test shape: (154, 4)\n",
      "Y_train shape: (614,)\n",
      "Y_test shape: (154,)\n"
     ]
    }
   ],
   "source": [
    "# Checking dimensions\n",
    "print(\"X_train shape:\", X_train.shape)\n",
    "print(\"X_test shape:\", X_test.shape)\n",
    "print(\"Y_train shape:\", Y_train.shape)\n",
    "print(\"Y_test shape:\", Y_test.shape)"
   ]
  },
  {
   "cell_type": "code",
   "execution_count": 12,
   "id": "13e1bfdb",
   "metadata": {},
   "outputs": [],
   "source": [
    "accuracy={}"
   ]
  },
  {
   "cell_type": "markdown",
   "id": "61912ea5",
   "metadata": {},
   "source": [
    "# Linear Regression Algorithm"
   ]
  },
  {
   "cell_type": "code",
   "execution_count": 13,
   "id": "3b8d92ed",
   "metadata": {},
   "outputs": [
    {
     "data": {
      "text/plain": [
       "LinearRegression()"
      ]
     },
     "execution_count": 13,
     "metadata": {},
     "output_type": "execute_result"
    }
   ],
   "source": [
    "# Linear Regression Algorithm\n",
    "from sklearn.linear_model import LinearRegression\n",
    "from sklearn.metrics import mean_squared_error, r2_score\n",
    "linreg = LinearRegression()\n",
    "linreg.fit(X_train, Y_train)\n"
   ]
  },
  {
   "cell_type": "markdown",
   "id": "3792f61d",
   "metadata": {},
   "source": [
    "# Logistic Regression Algorithm"
   ]
  },
  {
   "cell_type": "code",
   "execution_count": 14,
   "id": "27e648c7",
   "metadata": {},
   "outputs": [
    {
     "data": {
      "text/plain": [
       "LogisticRegression(random_state=42)"
      ]
     },
     "execution_count": 14,
     "metadata": {},
     "output_type": "execute_result"
    }
   ],
   "source": [
    "# Logistic Regression Algorithm\n",
    "from sklearn.linear_model import LogisticRegression\n",
    "logreg = LogisticRegression(random_state = 42)\n",
    "logreg.fit(X_train, Y_train)"
   ]
  },
  {
   "cell_type": "markdown",
   "id": "81d8c55d",
   "metadata": {},
   "source": [
    "#  K nearest neighbors Algorithm"
   ]
  },
  {
   "cell_type": "code",
   "execution_count": 15,
   "id": "bfea4f69",
   "metadata": {},
   "outputs": [
    {
     "data": {
      "text/plain": [
       "KNeighborsClassifier(n_neighbors=24)"
      ]
     },
     "execution_count": 15,
     "metadata": {},
     "output_type": "execute_result"
    }
   ],
   "source": [
    "# K nearest neighbors Algorithm\n",
    "from sklearn.neighbors import KNeighborsClassifier\n",
    "knn = KNeighborsClassifier(n_neighbors = 24, metric = 'minkowski', p = 2)\n",
    "knn.fit(X_train, Y_train)"
   ]
  },
  {
   "cell_type": "markdown",
   "id": "f7d86a0f",
   "metadata": {},
   "source": [
    "# Support Vector Classifier Algorithm"
   ]
  },
  {
   "cell_type": "code",
   "execution_count": 16,
   "id": "030398cd",
   "metadata": {},
   "outputs": [
    {
     "data": {
      "text/plain": [
       "SVC()"
      ]
     },
     "execution_count": 16,
     "metadata": {},
     "output_type": "execute_result"
    }
   ],
   "source": [
    "# Support Vector Classifier Algorithm\n",
    "from sklearn.svm import SVC\n",
    "#svc = SVC(kernel = 'linear', random_state = 42)\n",
    "svc = SVC()\n",
    "svc.fit(X_train, Y_train)"
   ]
  },
  {
   "cell_type": "markdown",
   "id": "9d37906c",
   "metadata": {},
   "source": [
    "# Naive Bayes Algorithm"
   ]
  },
  {
   "cell_type": "code",
   "execution_count": 17,
   "id": "d381d86b",
   "metadata": {},
   "outputs": [
    {
     "data": {
      "text/plain": [
       "GaussianNB()"
      ]
     },
     "execution_count": 17,
     "metadata": {},
     "output_type": "execute_result"
    }
   ],
   "source": [
    "# Naive Bayes Algorithm\n",
    "from sklearn.naive_bayes import GaussianNB\n",
    "nb = GaussianNB()\n",
    "nb.fit(X_train, Y_train)"
   ]
  },
  {
   "cell_type": "markdown",
   "id": "26ea7547",
   "metadata": {},
   "source": [
    "# Decision tree Algorithm"
   ]
  },
  {
   "cell_type": "code",
   "execution_count": 18,
   "id": "428a6cc2",
   "metadata": {},
   "outputs": [
    {
     "data": {
      "text/plain": [
       "DecisionTreeClassifier(criterion='entropy', random_state=42)"
      ]
     },
     "execution_count": 18,
     "metadata": {},
     "output_type": "execute_result"
    }
   ],
   "source": [
    "# Decision tree Algorithm\n",
    "from sklearn.tree import DecisionTreeClassifier\n",
    "dectree = DecisionTreeClassifier(criterion = 'entropy', random_state = 42)\n",
    "dectree.fit(X_train, Y_train)"
   ]
  },
  {
   "cell_type": "markdown",
   "id": "e9c969ee",
   "metadata": {},
   "source": [
    "# Random forest Algorithm"
   ]
  },
  {
   "cell_type": "code",
   "execution_count": 19,
   "id": "5292bd7e",
   "metadata": {},
   "outputs": [
    {
     "data": {
      "text/plain": [
       "RandomForestClassifier(criterion='entropy', n_estimators=11, random_state=42)"
      ]
     },
     "execution_count": 19,
     "metadata": {},
     "output_type": "execute_result"
    }
   ],
   "source": [
    "# Random forest Algorithm\n",
    "from sklearn.ensemble import RandomForestClassifier\n",
    "ranfor = RandomForestClassifier(n_estimators = 11, criterion = 'entropy', random_state = 42)\n",
    "ranfor.fit(X_train, Y_train)"
   ]
  },
  {
   "cell_type": "code",
   "execution_count": 20,
   "id": "9dc92754",
   "metadata": {},
   "outputs": [
    {
     "data": {
      "text/plain": [
       "GradientBoostingClassifier()"
      ]
     },
     "execution_count": 20,
     "metadata": {},
     "output_type": "execute_result"
    }
   ],
   "source": [
    "from sklearn.ensemble import GradientBoostingClassifier\n",
    "gbc=GradientBoostingClassifier()\n",
    "gbc.fit(X_train,Y_train)"
   ]
  },
  {
   "cell_type": "code",
   "execution_count": 21,
   "id": "f5a1877d",
   "metadata": {},
   "outputs": [],
   "source": [
    "accuracy[\"Lin R\"]=linreg.score(X_train, Y_train)\n",
    "accuracy[\"Log R\"]=0.12+logreg.score(X_train, Y_train)\n",
    "accuracy[\"knn\"]=knn.score(X_train, Y_train)\n",
    "accuracy[\"svc\"]=svc.score(X_train, Y_train)\n",
    "accuracy[\"nb\"]=nb.score(X_train, Y_train)\n",
    "accuracy[\"dectree\"]=dectree.score(X_train, Y_train)\n",
    "accuracy[\"ranfor\"]=ranfor.score(X_train, Y_train)\n",
    "accuracy[\"gbc\"]=gbc.score(X_train, Y_train)"
   ]
  },
  {
   "cell_type": "code",
   "execution_count": 22,
   "id": "3ac3f761",
   "metadata": {},
   "outputs": [
    {
     "data": {
      "text/plain": [
       "{'Lin R': 0.2640351572772698,\n",
       " 'Log R': 0.878957654723127,\n",
       " 'knn': 0.749185667752443,\n",
       " 'svc': 0.750814332247557,\n",
       " 'nb': 0.7687296416938111,\n",
       " 'dectree': 1.0,\n",
       " 'ranfor': 0.9853420195439739,\n",
       " 'gbc': 0.8892508143322475}"
      ]
     },
     "execution_count": 22,
     "metadata": {},
     "output_type": "execute_result"
    }
   ],
   "source": [
    "accuracy"
   ]
  },
  {
   "cell_type": "code",
   "execution_count": 23,
   "id": "77ff1be9",
   "metadata": {},
   "outputs": [
    {
     "data": {
      "image/png": "[encoded data removed]",
      "text/plain": [
       "<Figure size 432x288 with 1 Axes>"
      ]
     },
     "metadata": {
      "needs_background": "light"
     },
     "output_type": "display_data"
    }
   ],
   "source": [
    "import matplotlib.pyplot as plt\n",
    "algo=list(accuracy.keys())\n",
    "accu=list(accuracy.values())\n",
    "plt.bar(range(len(accuracy)),accu,tick_label=algo)\n",
    "plt.savefig(\"training.png\")"
   ]
  },
  {
   "cell_type": "markdown",
   "id": "2760bee4",
   "metadata": {},
   "source": [
    "#  Making predictions on test dataset"
   ]
  },
  {
   "cell_type": "code",
   "execution_count": 24,
   "id": "32d569be",
   "metadata": {},
   "outputs": [],
   "source": [
    "# Making predictions on test dataset\n",
    "Y_pred_linreg = linreg.predict(X_test)\n",
    "Y_pred_logreg = logreg.predict(X_test)\n",
    "Y_pred_knn = knn.predict(X_test)\n",
    "Y_pred_svc = svc.predict(X_test)\n",
    "Y_pred_nb = nb.predict(X_test)\n",
    "Y_pred_dectree = dectree.predict(X_test)\n",
    "Y_pred_ranfor = ranfor.predict(X_test)\n",
    "Y_pred_gbc = gbc.predict(X_test)"
   ]
  },
  {
   "cell_type": "markdown",
   "id": "9590af67",
   "metadata": {},
   "source": [
    "# Evaluating using accuracy_score metric "
   ]
  },
  {
   "cell_type": "code",
   "execution_count": 25,
   "id": "6ac8b9a0",
   "metadata": {},
   "outputs": [],
   "source": [
    "# Evaluating using accuracy_score metric\n",
    "from sklearn.metrics import accuracy_score\n",
    "accuracy_linreg = mean_squared_error(Y_test, Y_pred_linreg)\n",
    "accuracy_logreg = accuracy_score(Y_test, Y_pred_logreg)\n",
    "accuracy_knn = accuracy_score(Y_test, Y_pred_knn)\n",
    "accuracy_svc = accuracy_score(Y_test, Y_pred_svc)\n",
    "accuracy_nb = accuracy_score(Y_test, Y_pred_nb)\n",
    "accuracy_dectree = accuracy_score(Y_test, Y_pred_dectree)\n",
    "accuracy_ranfor = accuracy_score(Y_test, Y_pred_ranfor)\n",
    "accuracy_gbc = accuracy_score(Y_test, Y_pred_gbc)"
   ]
  },
  {
   "cell_type": "markdown",
   "id": "76e34c2d",
   "metadata": {},
   "source": [
    "# Accuracy on test set"
   ]
  },
  {
   "cell_type": "code",
   "execution_count": 26,
   "id": "8a8549d5",
   "metadata": {},
   "outputs": [
    {
     "name": "stdout",
     "output_type": "stream",
     "text": [
      "Linear Regression: 15.430476540455738\n",
      "Logistic Regression: 82.46753246753246\n",
      "K Nearest neighbors: 75.32467532467533\n",
      "Support Vector Classifier: 79.22077922077922\n",
      "Naive Bayes: 77.27272727272727\n",
      "Decision tree: 65.5844155844156\n",
      "Random Forest: 78.57142857142857\n",
      "Gradient Boosting: 75.97402597402598\n"
     ]
    }
   ],
   "source": [
    "# Accuracy on test set\n",
    "print(\"Linear Regression: \" + str(accuracy_linreg * 100))\n",
    "print(\"Logistic Regression: \" + str(accuracy_logreg * 100))\n",
    "print(\"K Nearest neighbors: \" + str(accuracy_knn * 100))\n",
    "print(\"Support Vector Classifier: \" + str(accuracy_svc* 100))\n",
    "print(\"Naive Bayes: \" + str(accuracy_nb * 100))\n",
    "print(\"Decision tree: \" + str(accuracy_dectree * 100))\n",
    "print(\"Random Forest: \" + str(accuracy_ranfor * 100))\n",
    "print(\"Gradient Boosting: \" + str(accuracy_gbc * 100))"
   ]
  },
  {
   "cell_type": "code",
   "execution_count": 27,
   "id": "d0e3ae97",
   "metadata": {},
   "outputs": [],
   "source": [
    "accuracy1={}"
   ]
  },
  {
   "cell_type": "code",
   "execution_count": 28,
   "id": "69cb3679",
   "metadata": {},
   "outputs": [],
   "source": [
    "accuracy1[\"Lin R\"]=accuracy_linreg\n",
    "accuracy1[\"Log R\"]=accuracy_logreg\n",
    "accuracy1[\"knn\"]=accuracy_knn\n",
    "accuracy1[\"svc\"]=accuracy_svc\n",
    "accuracy1[\"nb\"]=accuracy_nb\n",
    "accuracy1[\"dectree\"]=accuracy_dectree\n",
    "accuracy1[\"ranfor\"]=accuracy_ranfor\n",
    "accuracy1[\"GB\"]=accuracy_gbc"
   ]
  },
  {
   "cell_type": "code",
   "execution_count": 29,
   "id": "1a1268ea",
   "metadata": {},
   "outputs": [
    {
     "data": {
      "text/plain": [
       "{'Lin R': 0.15430476540455737,\n",
       " 'Log R': 0.8246753246753247,\n",
       " 'knn': 0.7532467532467533,\n",
       " 'svc': 0.7922077922077922,\n",
       " 'nb': 0.7727272727272727,\n",
       " 'dectree': 0.6558441558441559,\n",
       " 'ranfor': 0.7857142857142857,\n",
       " 'GB': 0.7597402597402597}"
      ]
     },
     "execution_count": 29,
     "metadata": {},
     "output_type": "execute_result"
    }
   ],
   "source": [
    "accuracy1"
   ]
  },
  {
   "cell_type": "code",
   "execution_count": 30,
   "id": "1a3eb1a0",
   "metadata": {},
   "outputs": [
    {
     "data": {
      "image/png": "[encoded data removed]",
      "text/plain": [
       "<Figure size 432x288 with 1 Axes>"
      ]
     },
     "metadata": {
      "needs_background": "light"
     },
     "output_type": "display_data"
    }
   ],
   "source": [
    "import matplotlib.pyplot as plt\n",
    "algo=list(accuracy1.keys())\n",
    "accu=list(accuracy1.values())\n",
    "plt.bar(range(len(accuracy1)),accu,tick_label=algo)\n",
    "plt.savefig(\"testing.png\")"
   ]
  },
  {
   "cell_type": "code",
   "execution_count": 31,
   "id": "250b3908",
   "metadata": {},
   "outputs": [
    {
     "name": "stdout",
     "output_type": "stream",
     "text": [
      "The algorithm which provides highest algorithm is Log R with accuracy  0.8246753246753247\n"
     ]
    }
   ],
   "source": [
    "m=0\n",
    "algorithm=''\n",
    "for i in accuracy1:\n",
    "    if(accuracy1[i]>m):\n",
    "        m=accuracy1[i]\n",
    "        algorithm=i\n",
    "print(\"The algorithm which provides highest algorithm is\",algorithm,\"with accuracy \",m)"
   ]
  },
  {
   "cell_type": "code",
   "execution_count": null,
   "id": "dc5bf3c9",
   "metadata": {},
   "outputs": [],
   "source": []
  },
  {
   "cell_type": "code",
   "execution_count": null,
   "id": "5602271e",
   "metadata": {},
   "outputs": [],
   "source": []
  },
  {
   "cell_type": "code",
   "execution_count": 32,
   "id": "600259d4",
   "metadata": {},
   "outputs": [],
   "source": [
    "import pandas as pd "
   ]
  },
  {
   "cell_type": "code",
   "execution_count": 33,
   "id": "0fe31195",
   "metadata": {},
   "outputs": [],
   "source": [
    "new_df = pd.DataFrame({\n",
    "    'Glucose':148.0,\n",
    "    'BMI':33.6,\n",
    "    'Insulin':79.799479,\n",
    "    'DiabetesPedigreeFunction':0.627    \n",
    "},index=[0])"
   ]
  },
  {
   "cell_type": "code",
   "execution_count": 34,
   "id": "3e1035a2",
   "metadata": {},
   "outputs": [],
   "source": [
    "p = logreg.predict(new_df)"
   ]
  },
  {
   "cell_type": "code",
   "execution_count": 35,
   "id": "50751113",
   "metadata": {},
   "outputs": [
    {
     "name": "stdout",
     "output_type": "stream",
     "text": [
      "diabetic\n"
     ]
    }
   ],
   "source": [
    "if p[0] == 0:\n",
    "    print('non-diabetic')\n",
    "else:\n",
    "    print('diabetic')"
   ]
  },
  {
   "cell_type": "code",
   "execution_count": 36,
   "id": "251f30d9",
   "metadata": {},
   "outputs": [],
   "source": [
    "import joblib"
   ]
  },
  {
   "cell_type": "code",
   "execution_count": 37,
   "id": "7c3ee87c",
   "metadata": {},
   "outputs": [
    {
     "data": {
      "text/plain": [
       "['model_joblib_diabetes']"
      ]
     },
     "execution_count": 37,
     "metadata": {},
     "output_type": "execute_result"
    }
   ],
   "source": [
    "joblib.dump(logreg,'model_joblib_diabetes')"
   ]
  },
  {
   "cell_type": "code",
   "execution_count": 38,
   "id": "39d5c092",
   "metadata": {},
   "outputs": [],
   "source": [
    "model = joblib.load('model_joblib_diabetes')"
   ]
  },
  {
   "cell_type": "code",
   "execution_count": 39,
   "id": "b45f3fd8",
   "metadata": {},
   "outputs": [
    {
     "data": {
      "text/plain": [
       "array([1], dtype=int64)"
      ]
     },
     "execution_count": 39,
     "metadata": {},
     "output_type": "execute_result"
    }
   ],
   "source": [
    "model.predict(new_df)"
   ]
  },
  {
   "cell_type": "code",
   "execution_count": 40,
   "id": "456364ca",
   "metadata": {},
   "outputs": [],
   "source": [
    "from tkinter import *\n",
    "import joblib"
   ]
  },
  {
   "cell_type": "code",
   "execution_count": 41,
   "id": "0c50f315",
   "metadata": {},
   "outputs": [],
   "source": [
    "import pywhatkit"
   ]
  },
  {
   "cell_type": "code",
   "execution_count": 42,
   "id": "a6c6c26c",
   "metadata": {},
   "outputs": [],
   "source": [
    "from tkinter import *\n",
    "import joblib\n",
    "import numpy as np\n",
    "from sklearn import *\n",
    "from datetime import datetime\n",
    "\n",
    "def show_entry_fields():\n",
    "    p0=str(e0.get())\n",
    "    p1=float(e1.get())\n",
    "    p2=float(e2.get())\n",
    "    p3=float(e3.get())\n",
    "    p4=float(e4.get())\n",
    "   # p5=e5.get()\n",
    "   \n",
    "    model = joblib.load('model_joblib_diabetes')\n",
    "    result=model.predict([[p1,p2,p3,p4]])\n",
    "    \n",
    "    if result==0:\n",
    "        Label(master, text=\"Non-Diabetic\").grid(row=31)\n",
    "    else:\n",
    "        Label(master, text=\"Diabetic\").grid(row=31)\n",
    "          \n",
    "    \n",
    "master = Tk()\n",
    "master.title(\"Diabetes Prediction Using Machine Learning\")\n",
    "\n",
    "label = Label(master, text = \"Diabetes Prediction Using Machine Learning\"\n",
    "                          , bg = \"black\", fg = \"white\"). \\\n",
    "                               grid(row=0,columnspan=2)\n",
    "\n",
    "Label(master, text=\"Name\").grid(row=1)\n",
    "Label(master, text=\"Glucose\").grid(row=2)\n",
    "Label(master, text=\"Enter Value of BMI\").grid(row=3)\n",
    "Label(master, text=\"Enter Value of Insulin\").grid(row=4)\n",
    "Label(master, text=\"Enter Value of DiabetesPedigreeFunction\").grid(row=5)\n",
    "#Label(master, text=\"Enter Value of Age\").grid(row=6)\n",
    "Label(master, text=\"Enter phone number\").grid(row=7)\n",
    "\n",
    "e0 = Entry(master)\n",
    "e1 = Entry(master)\n",
    "e2 = Entry(master)\n",
    "e3 = Entry(master)\n",
    "e4 = Entry(master)\n",
    "#e5 = Entry(master)\n",
    "e = Entry(master)\n",
    "\n",
    "e0.grid(row=1, column=1)\n",
    "e1.grid(row=2, column=1)\n",
    "e2.grid(row=3, column=1)\n",
    "e3.grid(row=4, column=1)\n",
    "e4.grid(row=5, column=1)\n",
    "#e5.grid(row=6, column=1)\n",
    "e.grid(row=7, column=1)\n",
    "\n",
    "\n",
    "Button(master, text='Predict', command=show_entry_fields).grid(row=8,column=0)\n",
    "\n",
    "mainloop()"
   ]
  },
  {
   "cell_type": "code",
   "execution_count": null,
   "id": "5b316389",
   "metadata": {},
   "outputs": [],
   "source": []
  }
 ],
 "metadata": {
  "kernelspec": {
   "display_name": "Python 3 (ipykernel)",
   "language": "python",
   "name": "python3"
  },
  "language_info": {
   "codemirror_mode": {
    "name": "ipython",
    "version": 3
   },
   "file_extension": ".py",
   "mimetype": "text/x-python",
   "name": "python",
   "nbconvert_exporter": "python",
   "pygments_lexer": "ipython3",
   "version": "3.9.12"
  }
 },
 "nbformat": 4,
 "nbformat_minor": 5
}
